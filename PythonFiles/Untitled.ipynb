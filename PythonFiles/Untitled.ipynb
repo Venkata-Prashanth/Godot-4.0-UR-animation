{
 "cells": [
  {
   "cell_type": "code",
   "execution_count": 2,
   "id": "4eae69c0-2911-4d32-8b4f-432dbd278ff4",
   "metadata": {},
   "outputs": [],
   "source": [
    "import rtde_control\n",
    "import time"
   ]
  },
  {
   "cell_type": "code",
   "execution_count": 1,
   "id": "8c50f23f-476e-4054-8689-6df2307b0193",
   "metadata": {},
   "outputs": [],
   "source": [
    "import sys"
   ]
  }
 ],
 "metadata": {
  "kernelspec": {
   "display_name": "venv_python310",
   "language": "python",
   "name": "venv_python310"
  },
  "language_info": {
   "codemirror_mode": {
    "name": "ipython",
    "version": 3
   },
   "file_extension": ".py",
   "mimetype": "text/x-python",
   "name": "python",
   "nbconvert_exporter": "python",
   "pygments_lexer": "ipython3",
   "version": "3.10.0"
  }
 },
 "nbformat": 4,
 "nbformat_minor": 5
}
